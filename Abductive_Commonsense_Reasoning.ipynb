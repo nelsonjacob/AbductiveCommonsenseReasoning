{
 "cells": [
  {
   "cell_type": "code",
   "execution_count": 1,
   "id": "eb389093-885b-4182-8f2b-5b45994cee83",
   "metadata": {
    "tags": []
   },
   "outputs": [
    {
     "name": "stdout",
     "output_type": "stream",
     "text": [
      "Requirement already satisfied: openai in /Users/jacobnelson/anaconda3/lib/python3.11/site-packages (1.25.0)\n",
      "Requirement already satisfied: anyio<5,>=3.5.0 in /Users/jacobnelson/anaconda3/lib/python3.11/site-packages (from openai) (3.5.0)\n",
      "Requirement already satisfied: distro<2,>=1.7.0 in /Users/jacobnelson/anaconda3/lib/python3.11/site-packages (from openai) (1.9.0)\n",
      "Requirement already satisfied: httpx<1,>=0.23.0 in /Users/jacobnelson/anaconda3/lib/python3.11/site-packages (from openai) (0.27.0)\n",
      "Requirement already satisfied: pydantic<3,>=1.9.0 in /Users/jacobnelson/anaconda3/lib/python3.11/site-packages (from openai) (2.7.1)\n",
      "Requirement already satisfied: sniffio in /Users/jacobnelson/anaconda3/lib/python3.11/site-packages (from openai) (1.2.0)\n",
      "Requirement already satisfied: tqdm>4 in /Users/jacobnelson/anaconda3/lib/python3.11/site-packages (from openai) (4.65.0)\n",
      "Requirement already satisfied: typing-extensions<5,>=4.7 in /Users/jacobnelson/anaconda3/lib/python3.11/site-packages (from openai) (4.7.1)\n",
      "Requirement already satisfied: idna>=2.8 in /Users/jacobnelson/anaconda3/lib/python3.11/site-packages (from anyio<5,>=3.5.0->openai) (3.4)\n",
      "Requirement already satisfied: certifi in /Users/jacobnelson/anaconda3/lib/python3.11/site-packages (from httpx<1,>=0.23.0->openai) (2023.7.22)\n",
      "Requirement already satisfied: httpcore==1.* in /Users/jacobnelson/anaconda3/lib/python3.11/site-packages (from httpx<1,>=0.23.0->openai) (1.0.5)\n",
      "Requirement already satisfied: h11<0.15,>=0.13 in /Users/jacobnelson/anaconda3/lib/python3.11/site-packages (from httpcore==1.*->httpx<1,>=0.23.0->openai) (0.14.0)\n",
      "Requirement already satisfied: annotated-types>=0.4.0 in /Users/jacobnelson/anaconda3/lib/python3.11/site-packages (from pydantic<3,>=1.9.0->openai) (0.6.0)\n",
      "Requirement already satisfied: pydantic-core==2.18.2 in /Users/jacobnelson/anaconda3/lib/python3.11/site-packages (from pydantic<3,>=1.9.0->openai) (2.18.2)\n",
      "Requirement already satisfied: datasets in /Users/jacobnelson/anaconda3/lib/python3.11/site-packages (2.12.0)\n",
      "Requirement already satisfied: numpy>=1.17 in /Users/jacobnelson/anaconda3/lib/python3.11/site-packages (from datasets) (1.24.3)\n",
      "Requirement already satisfied: pyarrow>=8.0.0 in /Users/jacobnelson/anaconda3/lib/python3.11/site-packages (from datasets) (11.0.0)\n",
      "Requirement already satisfied: dill<0.3.7,>=0.3.0 in /Users/jacobnelson/anaconda3/lib/python3.11/site-packages (from datasets) (0.3.6)\n",
      "Requirement already satisfied: pandas in /Users/jacobnelson/anaconda3/lib/python3.11/site-packages (from datasets) (1.5.3)\n",
      "Requirement already satisfied: requests>=2.19.0 in /Users/jacobnelson/anaconda3/lib/python3.11/site-packages (from datasets) (2.31.0)\n",
      "Requirement already satisfied: tqdm>=4.62.1 in /Users/jacobnelson/anaconda3/lib/python3.11/site-packages (from datasets) (4.65.0)\n",
      "Requirement already satisfied: xxhash in /Users/jacobnelson/anaconda3/lib/python3.11/site-packages (from datasets) (2.0.2)\n",
      "Requirement already satisfied: multiprocess in /Users/jacobnelson/anaconda3/lib/python3.11/site-packages (from datasets) (0.70.14)\n",
      "Requirement already satisfied: fsspec[http]>=2021.11.1 in /Users/jacobnelson/anaconda3/lib/python3.11/site-packages (from datasets) (2023.4.0)\n",
      "Requirement already satisfied: aiohttp in /Users/jacobnelson/anaconda3/lib/python3.11/site-packages (from datasets) (3.8.3)\n",
      "Requirement already satisfied: huggingface-hub<1.0.0,>=0.11.0 in /Users/jacobnelson/anaconda3/lib/python3.11/site-packages (from datasets) (0.15.1)\n",
      "Requirement already satisfied: packaging in /Users/jacobnelson/anaconda3/lib/python3.11/site-packages (from datasets) (23.0)\n",
      "Requirement already satisfied: responses<0.19 in /Users/jacobnelson/anaconda3/lib/python3.11/site-packages (from datasets) (0.13.3)\n",
      "Requirement already satisfied: pyyaml>=5.1 in /Users/jacobnelson/anaconda3/lib/python3.11/site-packages (from datasets) (6.0)\n",
      "Requirement already satisfied: attrs>=17.3.0 in /Users/jacobnelson/anaconda3/lib/python3.11/site-packages (from aiohttp->datasets) (22.1.0)\n",
      "Requirement already satisfied: charset-normalizer<3.0,>=2.0 in /Users/jacobnelson/anaconda3/lib/python3.11/site-packages (from aiohttp->datasets) (2.0.4)\n",
      "Requirement already satisfied: multidict<7.0,>=4.5 in /Users/jacobnelson/anaconda3/lib/python3.11/site-packages (from aiohttp->datasets) (6.0.2)\n",
      "Requirement already satisfied: async-timeout<5.0,>=4.0.0a3 in /Users/jacobnelson/anaconda3/lib/python3.11/site-packages (from aiohttp->datasets) (4.0.2)\n",
      "Requirement already satisfied: yarl<2.0,>=1.0 in /Users/jacobnelson/anaconda3/lib/python3.11/site-packages (from aiohttp->datasets) (1.8.1)\n",
      "Requirement already satisfied: frozenlist>=1.1.1 in /Users/jacobnelson/anaconda3/lib/python3.11/site-packages (from aiohttp->datasets) (1.3.3)\n",
      "Requirement already satisfied: aiosignal>=1.1.2 in /Users/jacobnelson/anaconda3/lib/python3.11/site-packages (from aiohttp->datasets) (1.2.0)\n",
      "Requirement already satisfied: filelock in /Users/jacobnelson/anaconda3/lib/python3.11/site-packages (from huggingface-hub<1.0.0,>=0.11.0->datasets) (3.9.0)\n",
      "Requirement already satisfied: typing-extensions>=3.7.4.3 in /Users/jacobnelson/anaconda3/lib/python3.11/site-packages (from huggingface-hub<1.0.0,>=0.11.0->datasets) (4.7.1)\n",
      "Requirement already satisfied: idna<4,>=2.5 in /Users/jacobnelson/anaconda3/lib/python3.11/site-packages (from requests>=2.19.0->datasets) (3.4)\n",
      "Requirement already satisfied: urllib3<3,>=1.21.1 in /Users/jacobnelson/anaconda3/lib/python3.11/site-packages (from requests>=2.19.0->datasets) (1.26.16)\n",
      "Requirement already satisfied: certifi>=2017.4.17 in /Users/jacobnelson/anaconda3/lib/python3.11/site-packages (from requests>=2.19.0->datasets) (2023.7.22)\n",
      "Requirement already satisfied: six in /Users/jacobnelson/anaconda3/lib/python3.11/site-packages (from responses<0.19->datasets) (1.16.0)\n",
      "Requirement already satisfied: python-dateutil>=2.8.1 in /Users/jacobnelson/anaconda3/lib/python3.11/site-packages (from pandas->datasets) (2.8.2)\n",
      "Requirement already satisfied: pytz>=2020.1 in /Users/jacobnelson/anaconda3/lib/python3.11/site-packages (from pandas->datasets) (2022.7)\n"
     ]
    }
   ],
   "source": [
    "!pip install openai\n",
    "!pip install datasets"
   ]
  },
  {
   "cell_type": "code",
   "execution_count": 2,
   "id": "7574c2ba-fbbb-4dca-b092-a1863f188866",
   "metadata": {
    "tags": []
   },
   "outputs": [
    {
     "name": "stderr",
     "output_type": "stream",
     "text": [
      "Found cached dataset parquet (/Users/jacobnelson/.cache/huggingface/datasets/parquet/anli-8a11dd669a7ff248/0.0.0/2a3b91fbd88a2c90d1dbbb32b460cf621d31bd5b05b934492fdef7d8d6f236ec)\n"
     ]
    },
    {
     "data": {
      "application/vnd.jupyter.widget-view+json": {
       "model_id": "6d4213f113234d09ba442a94c343f12a",
       "version_major": 2,
       "version_minor": 0
      },
      "text/plain": [
       "  0%|          | 0/2 [00:00<?, ?it/s]"
      ]
     },
     "metadata": {},
     "output_type": "display_data"
    }
   ],
   "source": [
    "from datasets import load_dataset\n",
    "import time\n",
    "import json\n",
    "\n",
    "dataset = load_dataset(\"art\")"
   ]
  },
  {
   "cell_type": "code",
   "execution_count": 17,
   "id": "5b0527df-1078-4a59-bf44-7bff2f3cbb1e",
   "metadata": {
    "tags": []
   },
   "outputs": [
    {
     "ename": "OpenAIError",
     "evalue": "The api_key client option must be set either by passing api_key to the client or by setting the OPENAI_API_KEY environment variable",
     "output_type": "error",
     "traceback": [
      "\u001b[0;31m---------------------------------------------------------------------------\u001b[0m",
      "\u001b[0;31mOpenAIError\u001b[0m                               Traceback (most recent call last)",
      "Cell \u001b[0;32mIn[17], line 3\u001b[0m\n\u001b[1;32m      1\u001b[0m \u001b[38;5;28;01mfrom\u001b[39;00m \u001b[38;5;21;01mopenai\u001b[39;00m \u001b[38;5;28;01mimport\u001b[39;00m OpenAI\n\u001b[0;32m----> 3\u001b[0m client \u001b[38;5;241m=\u001b[39m OpenAI()\n",
      "File \u001b[0;32m~/anaconda3/lib/python3.11/site-packages/openai/_client.py:104\u001b[0m, in \u001b[0;36mOpenAI.__init__\u001b[0;34m(self, api_key, organization, project, base_url, timeout, max_retries, default_headers, default_query, http_client, _strict_response_validation)\u001b[0m\n\u001b[1;32m    102\u001b[0m     api_key \u001b[38;5;241m=\u001b[39m os\u001b[38;5;241m.\u001b[39menviron\u001b[38;5;241m.\u001b[39mget(\u001b[38;5;124m\"\u001b[39m\u001b[38;5;124mOPENAI_API_KEY\u001b[39m\u001b[38;5;124m\"\u001b[39m)\n\u001b[1;32m    103\u001b[0m \u001b[38;5;28;01mif\u001b[39;00m api_key \u001b[38;5;129;01mis\u001b[39;00m \u001b[38;5;28;01mNone\u001b[39;00m:\n\u001b[0;32m--> 104\u001b[0m     \u001b[38;5;28;01mraise\u001b[39;00m OpenAIError(\n\u001b[1;32m    105\u001b[0m         \u001b[38;5;124m\"\u001b[39m\u001b[38;5;124mThe api_key client option must be set either by passing api_key to the client or by setting the OPENAI_API_KEY environment variable\u001b[39m\u001b[38;5;124m\"\u001b[39m\n\u001b[1;32m    106\u001b[0m     )\n\u001b[1;32m    107\u001b[0m \u001b[38;5;28mself\u001b[39m\u001b[38;5;241m.\u001b[39mapi_key \u001b[38;5;241m=\u001b[39m api_key\n\u001b[1;32m    109\u001b[0m \u001b[38;5;28;01mif\u001b[39;00m organization \u001b[38;5;129;01mis\u001b[39;00m \u001b[38;5;28;01mNone\u001b[39;00m:\n",
      "\u001b[0;31mOpenAIError\u001b[0m: The api_key client option must be set either by passing api_key to the client or by setting the OPENAI_API_KEY environment variable"
     ]
    }
   ],
   "source": [
    "from openai import OpenAI\n",
    "\n",
    "client = OpenAI()"
   ]
  },
  {
   "cell_type": "code",
   "execution_count": 4,
   "id": "b1643ac4-70ca-4c93-84a0-0009531c9fa9",
   "metadata": {
    "tags": []
   },
   "outputs": [],
   "source": [
    "results = dict()\n",
    "results[\"Random\"] = 0.50\n",
    "results[\"ACR Paper (2019)\"] = 0.689\n",
    "results[\"CompassMTL Paper (2022)\"] = 0.9280\n",
    "results[\"Human Testing\"] = 0.9290"
   ]
  },
  {
   "cell_type": "code",
   "execution_count": 5,
   "id": "b294376e-f13c-4e56-8315-ff6965de3673",
   "metadata": {},
   "outputs": [],
   "source": [
    "test_num = 200"
   ]
  },
  {
   "cell_type": "code",
   "execution_count": 6,
   "id": "8c986eea-4e92-4f8a-a3a4-e647ec34ffb4",
   "metadata": {
    "tags": []
   },
   "outputs": [],
   "source": [
    "system_prompt = \"\"\"I’ll provide an incomplete set of observations, O1 and O2. I’ll also provide two hypotheses, H1 and H2.\n",
    "Given this information, select whether H1 or H2 explains the incomplete set of observations better. If H1, return solely ‘1’. If H1, return solely ‘2’.\"\"\""
   ]
  },
  {
   "cell_type": "code",
   "execution_count": 7,
   "id": "bc2c2cd7-a238-4ff7-9fe0-37ee48314036",
   "metadata": {
    "tags": []
   },
   "outputs": [],
   "source": [
    "total_seen = 0\n",
    "total_correct = 0\n",
    "\n",
    "for i in range(test_num):\n",
    "    row_num = i\n",
    "    user_prompt = f\"\"\"O1={dataset[\"validation\"][row_num][\"observation_1\"]}\n",
    "    O2={dataset[\"validation\"][row_num][\"observation_2\"]}\n",
    "    H1={dataset[\"validation\"][row_num][\"hypothesis_1\"]}\n",
    "    H2={dataset[\"validation\"][row_num][\"hypothesis_2\"]}\n",
    "    \"\"\"\n",
    "    completion = client.chat.completions.create(\n",
    "      model=\"gpt-3.5-turbo\",\n",
    "      messages=[\n",
    "        {\"role\": \"system\", \"content\": system_prompt},\n",
    "        {\"role\": \"user\", \"content\": user_prompt}\n",
    "      ]\n",
    "    )\n",
    "    \n",
    "    message = completion.choices[0].message.content\n",
    "    if (message == 'H1' or message == 'H2'):\n",
    "        correct_answer = dataset[\"validation\"][row_num][\"label\"]\n",
    "        if (int(message[1]) == correct_answer):\n",
    "            total_correct += 1\n",
    "        total_seen += 1\n",
    "        \n",
    "    time.sleep(1)\n",
    "\n",
    "results[\"GPT-3.5-turbo\"] = total_correct / total_seen"
   ]
  },
  {
   "cell_type": "code",
   "execution_count": 8,
   "id": "f686c874-5cc6-45ec-a588-b42ee572cf17",
   "metadata": {},
   "outputs": [
    {
     "data": {
      "text/plain": [
       "{'Random': 0.5,\n",
       " 'ACR Paper (2019)': 0.689,\n",
       " 'CompassMTL Paper (2022)': 0.928,\n",
       " 'Human Testing': 0.929,\n",
       " 'GPT-3.5-turbo': 0.6878306878306878}"
      ]
     },
     "execution_count": 8,
     "metadata": {},
     "output_type": "execute_result"
    }
   ],
   "source": [
    "results"
   ]
  },
  {
   "cell_type": "code",
   "execution_count": 9,
   "id": "6387f69d-761a-4257-af41-394c68abbc2f",
   "metadata": {
    "tags": []
   },
   "outputs": [],
   "source": [
    "total_seen = 0\n",
    "total_correct = 0\n",
    "\n",
    "for i in range(test_num):\n",
    "    row_num = i\n",
    "    \n",
    "    user_prompt = f\"\"\"O1={dataset[\"validation\"][row_num][\"observation_1\"]}\n",
    "    O2={dataset[\"validation\"][row_num][\"observation_2\"]}\n",
    "    H1={dataset[\"validation\"][row_num][\"hypothesis_1\"]}\n",
    "    H2={dataset[\"validation\"][row_num][\"hypothesis_2\"]}\n",
    "    \"\"\"\n",
    "    \n",
    "    completion = client.chat.completions.create(\n",
    "      model=\"gpt-4\",\n",
    "      messages=[\n",
    "        {\"role\": \"system\", \"content\": system_prompt},\n",
    "        {\"role\": \"user\", \"content\": user_prompt}\n",
    "      ]\n",
    "    )\n",
    "    \n",
    "    message = completion.choices[0].message.content\n",
    "    if (message == '1' or message == '2'):\n",
    "        correct_answer = dataset[\"validation\"][row_num][\"label\"]\n",
    "        if (int(message[0]) == correct_answer):\n",
    "            total_correct += 1\n",
    "        total_seen += 1\n",
    "        \n",
    "    time.sleep(1)\n",
    "\n",
    "results[\"GPT-4\"] = total_correct / total_seen"
   ]
  },
  {
   "cell_type": "code",
   "execution_count": 10,
   "id": "6a2355be-7d2d-4734-b2ea-232ab7feb2b1",
   "metadata": {},
   "outputs": [
    {
     "data": {
      "text/plain": [
       "{'Random': 0.5,\n",
       " 'ACR Paper (2019)': 0.689,\n",
       " 'CompassMTL Paper (2022)': 0.928,\n",
       " 'Human Testing': 0.929,\n",
       " 'GPT-3.5-turbo': 0.6878306878306878,\n",
       " 'GPT-4': 0.8585858585858586}"
      ]
     },
     "execution_count": 10,
     "metadata": {},
     "output_type": "execute_result"
    }
   ],
   "source": [
    "results"
   ]
  },
  {
   "cell_type": "code",
   "execution_count": 11,
   "id": "5d4b6138-ad22-4dee-bb4c-e0545fb6fe4d",
   "metadata": {
    "tags": []
   },
   "outputs": [],
   "source": [
    "with open('validate.json', 'r') as file:\n",
    "    data = json.load(file)\n"
   ]
  },
  {
   "cell_type": "code",
   "execution_count": 12,
   "id": "3d6e7a8c-8bbb-407f-b41f-56d402a3b355",
   "metadata": {
    "tags": []
   },
   "outputs": [
    {
     "name": "stdout",
     "output_type": "stream",
     "text": [
      "H1\n",
      "H2\n",
      "H2\n",
      "H2\n",
      "Hypothesis 1 (H1) explains the incomplete set of observations better:\n",
      "\n",
      "1\n",
      "H2\n",
      "H1\n",
      "H2\n",
      "H1\n",
      "H2\n"
     ]
    }
   ],
   "source": [
    "total_seen = 0\n",
    "total_correct = 0   \n",
    "for i in range(len(data)):\n",
    "    row_num = i\n",
    "    \n",
    "    user_prompt = f\"\"\"\n",
    "    O1={data[row_num][\"observation_1\"]}\n",
    "    O2={data[row_num][\"observation_2\"]}\n",
    "    H1={data[row_num][\"hypothesis_1\"]}\n",
    "    H2={data[row_num][\"hypothesis_2\"]}\n",
    "    \"\"\"\n",
    "    \n",
    "    completion = client.chat.completions.create(\n",
    "      model=\"gpt-3.5-turbo\",\n",
    "      messages=[\n",
    "        {\"role\": \"system\", \"content\": system_prompt},\n",
    "        {\"role\": \"user\", \"content\": user_prompt}\n",
    "      ]\n",
    "    )\n",
    "    \n",
    "    message = completion.choices[0].message.content\n",
    "    print(message)\n",
    "    \n",
    "    if (message == 'H1' or message == 'H2'):\n",
    "        correct_answer = data[row_num][\"label\"]\n",
    "        if (int(message[1]) == correct_answer):\n",
    "            total_correct += 1\n",
    "        total_seen += 1\n",
    "results[\"Non-public data GPT-3.5-turbo\"] = total_correct / total_seen"
   ]
  },
  {
   "cell_type": "code",
   "execution_count": 13,
   "id": "5f66dffb-0ab1-48e4-9828-ea5f23ddaf18",
   "metadata": {
    "tags": []
   },
   "outputs": [
    {
     "name": "stdout",
     "output_type": "stream",
     "text": [
      "1\n",
      "2\n",
      "2\n",
      "2\n",
      "1\n",
      "2\n",
      "1\n",
      "2\n",
      "1\n",
      "2\n"
     ]
    }
   ],
   "source": [
    "total_seen = 0\n",
    "total_correct = 0   \n",
    "for i in range(len(data)):\n",
    "    row_num = i\n",
    "    \n",
    "    user_prompt = f\"\"\"\n",
    "    O1={data[row_num][\"observation_1\"]}\n",
    "    O2={data[row_num][\"observation_2\"]}\n",
    "    H1={data[row_num][\"hypothesis_1\"]}\n",
    "    H2={data[row_num][\"hypothesis_2\"]}\n",
    "    \"\"\"\n",
    "    \n",
    "    completion = client.chat.completions.create(\n",
    "      model=\"gpt-4\",\n",
    "      messages=[\n",
    "        {\"role\": \"system\", \"content\": system_prompt},\n",
    "        {\"role\": \"user\", \"content\": user_prompt}\n",
    "      ]\n",
    "    )\n",
    "    \n",
    "    message = completion.choices[0].message.content\n",
    "    print(message)\n",
    "    \n",
    "    \n",
    "    if (message == '1' or message == '2'):\n",
    "        correct_answer = data[row_num][\"label\"]\n",
    "        if (int(message[0]) == correct_answer):\n",
    "            total_correct += 1\n",
    "        total_seen += 1\n",
    "        \n",
    "results[\"Non-public data GPT-4\"] = total_correct / total_seen"
   ]
  },
  {
   "cell_type": "code",
   "execution_count": 15,
   "id": "141d8fc0-3bd8-4af9-ba3e-477abf28d7fc",
   "metadata": {
    "tags": []
   },
   "outputs": [
    {
     "data": {
      "image/png": "[encoded data removed]",
      "text/plain": [
       "<Figure size 640x480 with 1 Axes>"
      ]
     },
     "metadata": {},
     "output_type": "display_data"
    }
   ],
   "source": [
    "import pandas as pd\n",
    "import matplotlib.pyplot as plt\n",
    "result_series = pd.Series(results)\n",
    "fig, ax = plt.subplots()\n",
    "result_series.plot.bar(ax=ax)\n",
    "ax.set_ylabel('Accuracy')\n",
    "plt.title('Approach vs Abductive Commonsense Reasoning Accuracy')\n",
    "plt.tight_layout()\n",
    "plt.savefig('plot.png')\n",
    "\n"
   ]
  },
  {
   "cell_type": "code",
   "execution_count": 16,
   "id": "7983c912-59f4-4f93-b086-926b7fedf92a",
   "metadata": {
    "tags": []
   },
   "outputs": [],
   "source": [
    "with open('results.json', 'w') as json_file:\n",
    "    json.dump(results, json_file)"
   ]
  }
 ],
 "metadata": {
  "kernelspec": {
   "display_name": "Python 3 (ipykernel)",
   "language": "python",
   "name": "python3"
  },
  "language_info": {
   "codemirror_mode": {
    "name": "ipython",
    "version": 3
   },
   "file_extension": ".py",
   "mimetype": "text/x-python",
   "name": "python",
   "nbconvert_exporter": "python",
   "pygments_lexer": "ipython3",
   "version": "3.11.4"
  }
 },
 "nbformat": 4,
 "nbformat_minor": 5
}
